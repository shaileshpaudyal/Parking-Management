{
 "cells": [
  {
   "cell_type": "code",
   "execution_count": 4,
   "metadata": {},
   "outputs": [
    {
     "name": "stdout",
     "output_type": "stream",
     "text": [
      "Frames per second using video.get(cv2.CAP_PROP_FPS) : 30.0\n",
      "Capturing 120 frames\n",
      "Time taken : 4.472598075866699 seconds\n",
      "Estimated frames per second : 26.830043291280184\n"
     ]
    }
   ],
   "source": [
    "import cv2\n",
    "import time\n",
    " \n",
    "if __name__ == '__main__' :\n",
    " \n",
    "    # Start default camera\n",
    "    video = cv2.VideoCapture(0);\n",
    "     \n",
    "    # Find OpenCV version\n",
    "    (major_ver, minor_ver, subminor_ver) = (cv2.__version__).split('.')\n",
    "     \n",
    "    # With webcam get(CV_CAP_PROP_FPS) does not work.\n",
    "    # Let's see for ourselves.\n",
    "     \n",
    "    if int(major_ver)  < 3 :\n",
    "        fps = video.get(cv2.cv.CV_CAP_PROP_FPS)\n",
    "        print (\"Frames per second using video.get(cv2.cv.CV_CAP_PROP_FPS): {0}\".format(fps))\n",
    "    else :\n",
    "        fps = video.get(cv2.CAP_PROP_FPS)\n",
    "        print (\"Frames per second using video.get(cv2.CAP_PROP_FPS) : {0}\".format(fps))\n",
    "     \n",
    " \n",
    "    # Number of frames to capture\n",
    "    num_frames = 120;\n",
    "     \n",
    "     \n",
    "    print( \"Capturing {0} frames\".format(num_frames))\n",
    " \n",
    "    # Start time\n",
    "    start = time.time()\n",
    "     \n",
    "    # Grab a few frames\n",
    "    for i in range(0, num_frames) :\n",
    "        ret, frame = video.read()\n",
    " \n",
    "     \n",
    "    # End time\n",
    "    end = time.time()\n",
    " \n",
    "    # Time elapsed\n",
    "    seconds = end - start\n",
    "    print (\"Time taken : {0} seconds\".format(seconds))\n",
    " \n",
    "    # Calculate frames per second\n",
    "    fps  = num_frames / seconds;\n",
    "    print (\"Estimated frames per second : {0}\".format(fps))\n",
    " \n",
    "    # Release video\n",
    "    video.release()"
   ]
  },
  {
   "cell_type": "code",
   "execution_count": null,
   "metadata": {},
   "outputs": [],
   "source": []
  }
 ],
 "metadata": {
  "kernelspec": {
   "display_name": "Python 3",
   "language": "python",
   "name": "python3"
  },
  "language_info": {
   "codemirror_mode": {
    "name": "ipython",
    "version": 3
   },
   "file_extension": ".py",
   "mimetype": "text/x-python",
   "name": "python",
   "nbconvert_exporter": "python",
   "pygments_lexer": "ipython3",
   "version": "3.6.6"
  }
 },
 "nbformat": 4,
 "nbformat_minor": 2
}
