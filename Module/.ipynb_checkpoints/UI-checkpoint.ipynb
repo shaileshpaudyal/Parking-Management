{
 "cells": [
  {
   "cell_type": "code",
   "execution_count": 1,
   "metadata": {},
   "outputs": [],
   "source": [
    "from tkinter import*\n",
    "import tkinter.messagebox\n",
    "from tkinter import ttk\n",
    "import cv2\n",
    "\n",
    "def main():\n",
    "    root = Tk()\n",
    "    app = PMMain(root)\n",
    "\n",
    "class WindowPMMain:\n",
    "    def __init__(self, master):\n",
    "        self.master = master\n",
    "        self.master.title(\"Car Tracking\")\n",
    "        #self.master.geometry(\"1366x715+0+0\")\n",
    "        #self.master.state(\"zoomed\")\n",
    "        self.frame = Frame(self.master)\n",
    "        self.frame.pack()\n",
    "\n",
    "        self.LabelTitleMain = Label(self.frame, text = 'Click to start tracking', font = ('arial', 20, 'bold'), bd = 5)\n",
    "        self.LabelTitleMain.grid(row=0, column=0, columnspan =1, pady =10)\n",
    "        \n",
    "        \n",
    "\n",
    "        \n",
    "if __name__ == '__main__':\n",
    "    root = Tk()\n",
    "    b = WindowPMMain(root)\n",
    "    root.mainloop()"
   ]
  },
  {
   "cell_type": "code",
   "execution_count": 1,
   "metadata": {},
   "outputs": [
    {
     "name": "stdout",
     "output_type": "stream",
     "text": [
      "D:/P and P/FYP/Parking Management/Module/traffic.mp4\n"
     ]
    }
   ],
   "source": [
    "from tkinter.filedialog import askopenfilename\n",
    "filename = askopenfilename()\n",
    "print(filename)"
   ]
  },
  {
   "cell_type": "code",
   "execution_count": 1,
   "metadata": {},
   "outputs": [
    {
     "name": "stdout",
     "output_type": "stream",
     "text": [
      "D:/P and P/FYP/Parking Management/Module/traffic.mp4\n"
     ]
    }
   ],
   "source": [
    "from tkinter import filedialog\n",
    "from tkinter import *\n",
    "\n",
    "root = Tk()\n",
    "root.filename =  filedialog.askopenfilename(initialdir = \"/\",title = \"Select file\",filetypes = ((\"Video files\",\"*.mp4\"),(\"all files\",\"*.*\")))\n",
    "print (root.filename)"
   ]
  },
  {
   "cell_type": "code",
   "execution_count": 2,
   "metadata": {},
   "outputs": [
    {
     "name": "stdout",
     "output_type": "stream",
     "text": [
      "D:/P and P/FYP/Parking Management/Module/traffic.mp4\n"
     ]
    }
   ],
   "source": [
    "from tkinter import Tk\n",
    "from tkinter.filedialog import askopenfilename\n",
    "\n",
    "root = Tk.Tk()\n",
    "root.withdraw() # we don't want a full GUI, so keep the root window from appearing\n",
    "filename = askopenfilename() # show an \"Open\" dialog box and return the path to the selected file\n",
    "print(filename)"
   ]
  },
  {
   "cell_type": "code",
   "execution_count": 2,
   "metadata": {},
   "outputs": [
    {
     "data": {
      "text/plain": [
       "<sqlite3.Cursor at 0x1be848e07a0>"
      ]
     },
     "execution_count": 2,
     "metadata": {},
     "output_type": "execute_result"
    }
   ],
   "source": [
    "import sqlite3\n",
    "\n",
    "with sqlite3.connect(\"Quiz.db\") as db:\n",
    "    cursor = db.cursor()\n",
    "\n",
    "cursor.execute('''\n",
    "CREATE TABLE IF NOT EXISTS user(\n",
    "userID INTEGER PRIMARY KEY,\n",
    "username VARCHAR(20) NOT NULL,\n",
    "userrole VARCHAR(20) NOT NULL,\n",
    "password VARCHAR(20) NOT NULL);    \n",
    "''')"
   ]
  },
  {
   "cell_type": "code",
   "execution_count": 3,
   "metadata": {},
   "outputs": [],
   "source": [
    "cursor.execute('''\n",
    "INSERT INTO user(username, userrole, password)\n",
    "VALUES (\"test_user\", \"tester\", \"test123\");    \n",
    "''')\n",
    "db.commit()"
   ]
  },
  {
   "cell_type": "code",
   "execution_count": 4,
   "metadata": {},
   "outputs": [
    {
     "name": "stdout",
     "output_type": "stream",
     "text": [
      "[(1, 'test_user', 'tester', 'test123')]\n"
     ]
    }
   ],
   "source": [
    "cursor.execute('''\n",
    "SELECT * FROM user;    \n",
    "''')\n",
    "print(cursor.fetchall())"
   ]
  },
  {
   "cell_type": "code",
   "execution_count": null,
   "metadata": {},
   "outputs": [],
   "source": []
  }
 ],
 "metadata": {
  "kernelspec": {
   "display_name": "Python 3",
   "language": "python",
   "name": "python3"
  },
  "language_info": {
   "codemirror_mode": {
    "name": "ipython",
    "version": 3
   },
   "file_extension": ".py",
   "mimetype": "text/x-python",
   "name": "python",
   "nbconvert_exporter": "python",
   "pygments_lexer": "ipython3",
   "version": "3.6.6"
  }
 },
 "nbformat": 4,
 "nbformat_minor": 2
}
